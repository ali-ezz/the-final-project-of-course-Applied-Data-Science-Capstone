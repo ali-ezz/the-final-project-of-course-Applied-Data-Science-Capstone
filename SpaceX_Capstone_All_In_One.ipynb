{
 "cells": [
  {
   "cell_type": "markdown",
   "metadata": {},
   "source": [
    "# SpaceX Capstone: All-In-One Notebook\n",
    "\n",
    "This notebook is organized by your PowerPoint outline. For each page, you will find:\n",
    "- Page number and title\n",
    "- Explicit instructions: what to replace, what to add, what code to run, what output to screenshot\n",
    "- All necessary code cells and outputs\n",
    "- Prompts for explanations/screenshots\n",
    "\n",
    "Run the notebook end-to-end and follow the instructions for each page."
   ]
  },
  {
   "cell_type": "markdown",
   "metadata": {},
   "source": [
    "# Page 2: Executive Summary\n",
    "• Summary of methodologies\n",
    "• Summary of all results\n",
    "## Instructions:\n",
    "- REPLACE this cell with your summary of methodologies and results.\n",
    "- Example: \"We collected SpaceX launch data via API and Wikipedia scraping, performed wrangling, EDA, SQL, mapping, dashboarding, and predictive modeling to analyze and forecast Falcon 9 landings.\""
   ]
  },
  {
   "cell_type": "markdown",
   "metadata": {},
   "source": [
    "# Page 3: Introduction\n",
    "• Project background and context\n",
    "• Problems you want to find answers\n",
    "## Instructions:\n",
    "- REPLACE this cell with your project background and context, and the problems you want to solve.\n",
    "- Example: \"SpaceX aims to reduce launch costs by reusing Falcon 9 first stages. What factors influence landing success? How can we predict outcomes?\""
   ]
  },
  {
   "cell_type": "markdown",
   "metadata": {},
   "source": [
    "# Page 4: Section 1\n",
    "## Instructions:\n",
    "- REPLACE this cell with a section header or overview.\n",
    "- Example: \"Section 1: Data Collection and Methodology\""
   ]
  },
  {
   "cell_type": "markdown",
   "metadata": {},
   "source": [
    "# Page 5: Methodology Executive Summary\n",
    "• Data collection methodology:\n",
    "• Describe how data was collected\n",
    "• Perform data wrangling\n",
    "• Describe how data was processed\n",
    "• Perform exploratory data analysis (EDA) using visualization and SQL\n",
    "• Perform interactive data analytics using Folium and Plotly Dash\n",
    "• Perform predictive analysis using classification models\n",
    "• How to build, tune, evaluate classification models\n",
    "## Instructions:\n",
    "- REPLACE this cell with your summary of methodology and add flowcharts/images if needed.\n",
    "- Example: \"Data collected via SpaceX API and Wikipedia scraping. Data wrangled and cleaned. EDA performed with visualization and SQL. Interactive analytics with Folium and Dash. Predictive analysis with classification models.\""
   ]
  },
  {
   "cell_type": "markdown",
   "metadata": {},
   "source": [
    "# Page 6: Data Collection\n",
    "• Describe how data sets were collected.\n",
    "• You need to present your data collection process use key phrases and flowcharts\n",
    "## Instructions:\n",
    "- REPLACE this cell with your description of data collection and add flowcharts/images if needed.\n",
    "- Example: \"We collected launch data from SpaceX API and historical records from Wikipedia using web scraping.\""
   ]
  },
  {
   "cell_type": "markdown",
   "metadata": {},
   "source": [
    "# Page 7: Data Collection – SpaceX API\n",
    "• Present your data collection with SpaceX REST calls using key phrases and flowcharts\n",
    "• Add the GitHub URL of the completed SpaceX API calls notebook (must include completed code cell and outcome cell), as an external reference and peer-review purpose\n",
    "Place your flowchart of SpaceX API calls here\n",
    "## Instructions:\n",
    "- REPLACE this cell with your description and flowchart. Add code and output below.\n",
    "- Example: \"We used Python requests to call the SpaceX REST API and collected launch data in JSON format. See [GitHub URL].\""
   ]
  },
  {
   "cell_type": "code",
   "execution_count": 1,
   "metadata": {},
   "outputs": [
    {
     "data": {
      "text/html": [
       "<div>\n",
       "<style scoped>\n",
       "    .dataframe tbody tr th:only-of-type {\n",
       "        vertical-align: middle;\n",
       "    }\n",
       "\n",
       "    .dataframe tbody tr th {\n",
       "        vertical-align: top;\n",
       "    }\n",
       "\n",
       "    .dataframe thead th {\n",
       "        text-align: right;\n",
       "    }\n",
       "</style>\n",
       "<table border=\"1\" class=\"dataframe\">\n",
       "  <thead>\n",
       "    <tr style=\"text-align: right;\">\n",
       "      <th></th>\n",
       "      <th>static_fire_date_utc</th>\n",
       "      <th>static_fire_date_unix</th>\n",
       "      <th>net</th>\n",
       "      <th>window</th>\n",
       "      <th>rocket</th>\n",
       "      <th>success</th>\n",
       "      <th>failures</th>\n",
       "      <th>details</th>\n",
       "      <th>crew</th>\n",
       "      <th>ships</th>\n",
       "      <th>...</th>\n",
       "      <th>links.reddit.media</th>\n",
       "      <th>links.reddit.recovery</th>\n",
       "      <th>links.flickr.small</th>\n",
       "      <th>links.flickr.original</th>\n",
       "      <th>links.presskit</th>\n",
       "      <th>links.webcast</th>\n",
       "      <th>links.youtube_id</th>\n",
       "      <th>links.article</th>\n",
       "      <th>links.wikipedia</th>\n",
       "      <th>fairings</th>\n",
       "    </tr>\n",
       "  </thead>\n",
       "  <tbody>\n",
       "    <tr>\n",
       "      <th>0</th>\n",
       "      <td>2006-03-17T00:00:00.000Z</td>\n",
       "      <td>1.142554e+09</td>\n",
       "      <td>False</td>\n",
       "      <td>0.0</td>\n",
       "      <td>5e9d0d95eda69955f709d1eb</td>\n",
       "      <td>False</td>\n",
       "      <td>[{'time': 33, 'altitude': None, 'reason': 'mer...</td>\n",
       "      <td>Engine failure at 33 seconds and loss of vehicle</td>\n",
       "      <td>[]</td>\n",
       "      <td>[]</td>\n",
       "      <td>...</td>\n",
       "      <td>None</td>\n",
       "      <td>None</td>\n",
       "      <td>[]</td>\n",
       "      <td>[]</td>\n",
       "      <td>None</td>\n",
       "      <td>https://www.youtube.com/watch?v=0a_00nJ_Y88</td>\n",
       "      <td>0a_00nJ_Y88</td>\n",
       "      <td>https://www.space.com/2196-spacex-inaugural-fa...</td>\n",
       "      <td>https://en.wikipedia.org/wiki/DemoSat</td>\n",
       "      <td>NaN</td>\n",
       "    </tr>\n",
       "    <tr>\n",
       "      <th>1</th>\n",
       "      <td>None</td>\n",
       "      <td>NaN</td>\n",
       "      <td>False</td>\n",
       "      <td>0.0</td>\n",
       "      <td>5e9d0d95eda69955f709d1eb</td>\n",
       "      <td>False</td>\n",
       "      <td>[{'time': 301, 'altitude': 289, 'reason': 'har...</td>\n",
       "      <td>Successful first stage burn and transition to ...</td>\n",
       "      <td>[]</td>\n",
       "      <td>[]</td>\n",
       "      <td>...</td>\n",
       "      <td>None</td>\n",
       "      <td>None</td>\n",
       "      <td>[]</td>\n",
       "      <td>[]</td>\n",
       "      <td>None</td>\n",
       "      <td>https://www.youtube.com/watch?v=Lk4zQ2wP-Nc</td>\n",
       "      <td>Lk4zQ2wP-Nc</td>\n",
       "      <td>https://www.space.com/3590-spacex-falcon-1-roc...</td>\n",
       "      <td>https://en.wikipedia.org/wiki/DemoSat</td>\n",
       "      <td>NaN</td>\n",
       "    </tr>\n",
       "    <tr>\n",
       "      <th>2</th>\n",
       "      <td>None</td>\n",
       "      <td>NaN</td>\n",
       "      <td>False</td>\n",
       "      <td>0.0</td>\n",
       "      <td>5e9d0d95eda69955f709d1eb</td>\n",
       "      <td>False</td>\n",
       "      <td>[{'time': 140, 'altitude': 35, 'reason': 'resi...</td>\n",
       "      <td>Residual stage 1 thrust led to collision betwe...</td>\n",
       "      <td>[]</td>\n",
       "      <td>[]</td>\n",
       "      <td>...</td>\n",
       "      <td>None</td>\n",
       "      <td>None</td>\n",
       "      <td>[]</td>\n",
       "      <td>[]</td>\n",
       "      <td>None</td>\n",
       "      <td>https://www.youtube.com/watch?v=v0w9p3U8860</td>\n",
       "      <td>v0w9p3U8860</td>\n",
       "      <td>http://www.spacex.com/news/2013/02/11/falcon-1...</td>\n",
       "      <td>https://en.wikipedia.org/wiki/Trailblazer_(sat...</td>\n",
       "      <td>NaN</td>\n",
       "    </tr>\n",
       "    <tr>\n",
       "      <th>3</th>\n",
       "      <td>2008-09-20T00:00:00.000Z</td>\n",
       "      <td>1.221869e+09</td>\n",
       "      <td>False</td>\n",
       "      <td>0.0</td>\n",
       "      <td>5e9d0d95eda69955f709d1eb</td>\n",
       "      <td>True</td>\n",
       "      <td>[]</td>\n",
       "      <td>Ratsat was carried to orbit on the first succe...</td>\n",
       "      <td>[]</td>\n",
       "      <td>[]</td>\n",
       "      <td>...</td>\n",
       "      <td>None</td>\n",
       "      <td>None</td>\n",
       "      <td>[]</td>\n",
       "      <td>[]</td>\n",
       "      <td>None</td>\n",
       "      <td>https://www.youtube.com/watch?v=dLQ2tZEH6G0</td>\n",
       "      <td>dLQ2tZEH6G0</td>\n",
       "      <td>https://en.wikipedia.org/wiki/Ratsat</td>\n",
       "      <td>https://en.wikipedia.org/wiki/Ratsat</td>\n",
       "      <td>NaN</td>\n",
       "    </tr>\n",
       "    <tr>\n",
       "      <th>4</th>\n",
       "      <td>None</td>\n",
       "      <td>NaN</td>\n",
       "      <td>False</td>\n",
       "      <td>0.0</td>\n",
       "      <td>5e9d0d95eda69955f709d1eb</td>\n",
       "      <td>True</td>\n",
       "      <td>[]</td>\n",
       "      <td>None</td>\n",
       "      <td>[]</td>\n",
       "      <td>[]</td>\n",
       "      <td>...</td>\n",
       "      <td>None</td>\n",
       "      <td>None</td>\n",
       "      <td>[]</td>\n",
       "      <td>[]</td>\n",
       "      <td>http://www.spacex.com/press/2012/12/19/spacexs...</td>\n",
       "      <td>https://www.youtube.com/watch?v=yTaIDooc8Og</td>\n",
       "      <td>yTaIDooc8Og</td>\n",
       "      <td>http://www.spacex.com/news/2013/02/12/falcon-1...</td>\n",
       "      <td>https://en.wikipedia.org/wiki/RazakSAT</td>\n",
       "      <td>NaN</td>\n",
       "    </tr>\n",
       "  </tbody>\n",
       "</table>\n",
       "<p>5 rows × 43 columns</p>\n",
       "</div>"
      ],
      "text/plain": [
       "       static_fire_date_utc  static_fire_date_unix    net  window  \\\n",
       "0  2006-03-17T00:00:00.000Z           1.142554e+09  False     0.0   \n",
       "1                      None                    NaN  False     0.0   \n",
       "2                      None                    NaN  False     0.0   \n",
       "3  2008-09-20T00:00:00.000Z           1.221869e+09  False     0.0   \n",
       "4                      None                    NaN  False     0.0   \n",
       "\n",
       "                     rocket success  \\\n",
       "0  5e9d0d95eda69955f709d1eb   False   \n",
       "1  5e9d0d95eda69955f709d1eb   False   \n",
       "2  5e9d0d95eda69955f709d1eb   False   \n",
       "3  5e9d0d95eda69955f709d1eb    True   \n",
       "4  5e9d0d95eda69955f709d1eb    True   \n",
       "\n",
       "                                            failures  \\\n",
       "0  [{'time': 33, 'altitude': None, 'reason': 'mer...   \n",
       "1  [{'time': 301, 'altitude': 289, 'reason': 'har...   \n",
       "2  [{'time': 140, 'altitude': 35, 'reason': 'resi...   \n",
       "3                                                 []   \n",
       "4                                                 []   \n",
       "\n",
       "                                             details crew ships  ...  \\\n",
       "0   Engine failure at 33 seconds and loss of vehicle   []    []  ...   \n",
       "1  Successful first stage burn and transition to ...   []    []  ...   \n",
       "2  Residual stage 1 thrust led to collision betwe...   []    []  ...   \n",
       "3  Ratsat was carried to orbit on the first succe...   []    []  ...   \n",
       "4                                               None   []    []  ...   \n",
       "\n",
       "  links.reddit.media links.reddit.recovery links.flickr.small  \\\n",
       "0               None                  None                 []   \n",
       "1               None                  None                 []   \n",
       "2               None                  None                 []   \n",
       "3               None                  None                 []   \n",
       "4               None                  None                 []   \n",
       "\n",
       "   links.flickr.original                                     links.presskit  \\\n",
       "0                     []                                               None   \n",
       "1                     []                                               None   \n",
       "2                     []                                               None   \n",
       "3                     []                                               None   \n",
       "4                     []  http://www.spacex.com/press/2012/12/19/spacexs...   \n",
       "\n",
       "                                 links.webcast  links.youtube_id  \\\n",
       "0  https://www.youtube.com/watch?v=0a_00nJ_Y88       0a_00nJ_Y88   \n",
       "1  https://www.youtube.com/watch?v=Lk4zQ2wP-Nc       Lk4zQ2wP-Nc   \n",
       "2  https://www.youtube.com/watch?v=v0w9p3U8860       v0w9p3U8860   \n",
       "3  https://www.youtube.com/watch?v=dLQ2tZEH6G0       dLQ2tZEH6G0   \n",
       "4  https://www.youtube.com/watch?v=yTaIDooc8Og       yTaIDooc8Og   \n",
       "\n",
       "                                       links.article  \\\n",
       "0  https://www.space.com/2196-spacex-inaugural-fa...   \n",
       "1  https://www.space.com/3590-spacex-falcon-1-roc...   \n",
       "2  http://www.spacex.com/news/2013/02/11/falcon-1...   \n",
       "3               https://en.wikipedia.org/wiki/Ratsat   \n",
       "4  http://www.spacex.com/news/2013/02/12/falcon-1...   \n",
       "\n",
       "                                     links.wikipedia  fairings  \n",
       "0              https://en.wikipedia.org/wiki/DemoSat       NaN  \n",
       "1              https://en.wikipedia.org/wiki/DemoSat       NaN  \n",
       "2  https://en.wikipedia.org/wiki/Trailblazer_(sat...       NaN  \n",
       "3               https://en.wikipedia.org/wiki/Ratsat       NaN  \n",
       "4             https://en.wikipedia.org/wiki/RazakSAT       NaN  \n",
       "\n",
       "[5 rows x 43 columns]"
      ]
     },
     "execution_count": 1,
     "metadata": {},
     "output_type": "execute_result"
    }
   ],
   "source": [
    "import pandas as pd\n",
    "import requests\n",
    "spacex_url = \"https://api.spacexdata.com/v4/launches/past\"\n",
    "response = requests.get(spacex_url)\n",
    "data_api = pd.json_normalize(response.json())\n",
    "data_api.head()"
   ]
  },
  {
   "cell_type": "markdown",
   "metadata": {},
   "source": [
    "# Page 8: Data Collection - Scraping\n",
    "• Present your web scraping process using key phrases and flowcharts\n",
    "• Add the GitHub URL of the completed web scraping notebook, as an external reference and peer-review purpose\n",
    "Place your flowchart of web scraping here\n",
    "## Instructions:\n",
    "- REPLACE this cell with your description and flowchart. Add code and output below.\n",
    "- Example: \"We used Python requests and BeautifulSoup to scrape Falcon 9 launch records from Wikipedia. See [GitHub URL].\""
   ]
  },
  {
   "cell_type": "code",
   "execution_count": null,
   "metadata": {},
   "outputs": [],
   "source": [
    "from bs4 import BeautifulSoup\n",
    "import unicodedata\n",
    "static_url = \"https://en.wikipedia.org/w/index.php?title=List_of_Falcon_9_and_Falcon_Heavy_launches&oldid=1027686922\"\n",
    "response = requests.get(static_url)\n",
    "soup = BeautifulSoup(response.text, 'html.parser')\n",
    "html_tables = soup.find_all('table')\n",
    "first_launch_table = html_tables[2]\n",
    "column_names = []\n",
    "def extract_column_from_header(row):\n",
    "    if (row.br): row.br.extract()\n",
    "    if row.a: row.a.extract()\n",
    "    if row.sup: row.sup.extract()\n",
    "    colunm_name = ' '.join(row.contents)\n",
    "    if not(colunm_name.strip().isdigit()):\n",
    "        colunm_name = colunm_name.strip()\n",
    "        return colunm_name\n",
    "for th in first_launch_table.find_all('th'):\n",
    "    name = extract_column_from_header(th)\n",
    "    if name is not None and len(name) > 0:\n",
    "        column_names.append(name)\n",
    "launch_dict = dict.fromkeys(column_names)\n",
    "del launch_dict['Date and time ( )']\n",
    "launch_dict['Flight No.'] = []\n",
    "launch_dict['Launch site'] = []\n",
    "launch_dict['Payload'] = []\n",
    "launch_dict['Payload mass'] = []\n",
    "launch_dict['Orbit'] = []\n",
    "launch_dict['Customer'] = []\n",
    "launch_dict['Launch outcome'] = []\n",
    "launch_dict['Version Booster'] = []\n",
    "launch_dict['Booster landing'] = []\n",
    "launch_dict['Date'] = []\n",
    "launch_dict['Time'] = []\n",
    "extracted_row = 0\n",
    "def date_time(table_cells):\n",
    "    return [data_time.strip() for data_time in list(table_cells.strings)][0:2]\n",
    "def booster_version(table_cells):\n",
    "    out=''.join([booster_version for i,booster_version in enumerate( table_cells.strings) if i%2==0][0:-1])\n",
    "    return out\n",
    "def landing_status(table_cells):\n",
    "    out=[i for i in table_cells.strings][0]\n",
    "    return out\n",
    "def get_mass(table_cells):\n",
    "    mass=unicodedata.normalize(\"NFKD\", table_cells.text).strip()\n",
    "    if mass:\n",
    "        mass.find(\"kg\")\n",
    "        new_mass=mass[0:mass.find(\"kg\")+2]\n",
    "    else:\n",
    "        new_mass=0\n",
    "    return new_mass\n",
    "for table_number, table in enumerate(soup.find_all('table', \"wikitable plainrowheaders collapsible\")):\n",
    "    for rows in table.find_all(\"tr\"):\n",
    "        if rows.th:\n",
    "            if rows.th.string:\n",
    "                flight_number = rows.th.string.strip()\n",
    "                flag = flight_number.isdigit()\n",
    "        else:\n",
    "            flag = False\n",
    "        row = rows.find_all('td')\n",
    "        if flag:\n",
    "            extracted_row += 1\n",
    "            launch_dict['Flight No.'].append(flight_number)\n",
    "            datatimelist = date_time(row[0])\n",
    "            date = datatimelist[0].strip(',')\n",
    "            time = datatimelist[1]\n",
    "            launch_dict['Date'].append(date)\n",
    "            launch_dict['Time'].append(time)\n",
    "            bv = booster_version(row[1])\n",
    "            if not(bv): bv = row[1].a.string\n",
    "            launch_dict['Version Booster'].append(bv)\n",
    "            launch_site = row[2].a.string\n",
    "            launch_dict['Launch site'].append(launch_site)\n",
    "            payload = row[3].a.string\n",
    "            launch_dict['Payload'].append(payload)\n",
    "            payload_mass = get_mass(row[4])\n",
    "            launch_dict['Payload mass'].append(payload_mass)\n",
    "            orbit = row[5].a.string\n",
    "            launch_dict['Orbit'].append(orbit)\n",
    "            customer = row[6].a.string\n",
    "            launch_dict['Customer'].append(customer)\n",
    "            launch_outcome = list(row[7].strings)[0]\n",
    "            launch_dict['Launch outcome'].append(launch_outcome)\n",
    "            booster_landing = landing_status(row[8])\n",
    "            launch_dict['Booster landing'].append(booster_landing)\n",
    "df_scraped = pd.DataFrame({key: pd.Series(value) for key, value in launch_dict.items()})\n",
    "df_scraped.head()"
   ]
  },
  {
   "cell_type": "markdown",
   "metadata": {},
   "source": [
    "# Page 9: Data Wrangling\n",
    "• Describe how data were processed\n",
    "• You need to present your data wrangling process using key phrases and flowcharts\n",
    "• Add the GitHub URL of your completed data wrangling related notebooks, as an external reference and peer-review purpose\n",
    "## Instructions:\n",
    "- REPLACE this cell with your description and flowchart. Add code and output below.\n",
    "- Example: \"We removed duplicates and missing values, performed feature engineering, and created a clean dataset for analysis. See [GitHub URL].\""
   ]
  },
  {
   "cell_type": "code",
   "execution_count": null,
   "metadata": {},
   "outputs": [],
   "source": [
    "df_api = data_api[['rocket', 'payloads', 'launchpad', 'cores', 'flight_number', 'date_utc']]\n",
    "df_api = df_api[df_api['cores'].map(len)==1]\n",
    "df_api = df_api[df_api['payloads'].map(len)==1]\n",
    "df_api['cores'] = df_api['cores'].map(lambda x : x[0])\n",
    "df_api['payloads'] = df_api['payloads'].map(lambda x : x[0])\n",
    "df_api['date'] = pd.to_datetime(df_api['date_utc']).dt.date\n",
    "df_api = df_api[df_api['date'] <= pd.to_datetime('2020-11-13').date()]\n",
    "df_api.head()"
   ]
  },
  {
   "cell_type": "markdown",
   "metadata": {},
   "source": [
    "# Page 10: EDA with Data Visualization\n",
    "• Summarize what charts were plotted and why you used those charts\n",
    "• Add the GitHub URL of your completed EDA with data visualization notebook, as an external reference and peer-review purpose\n",
    "## Instructions:\n",
    "- REPLACE this cell with your summary and add code/output below.\n",
    "- Example: \"We plotted Flight Number vs. Payload Mass to visualize trends in launch performance. See [GitHub URL].\""
   ]
  },
  {
   "cell_type": "code",
   "execution_count": null,
   "metadata": {},
   "outputs": [],
   "source": [
    "import matplotlib.pyplot as plt\n",
    "import seaborn as sns\n",
    "sns.scatterplot(x='flight_number', y='payloads', data=df_api)\n",
    "plt.title('Flight Number vs. Payload Mass')\n",
    "plt.show()"
   ]
  },
  {
   "cell_type": "markdown",
   "metadata": {},
   "source": [
    "# Page 11: EDA with SQL\n",
    "• Using bullet point format, summarize the SQL queries you performed\n",
    "• Add the GitHub URL of your completed EDA with SQL notebook, as an external reference and peer-review purpose\n",
    "## Instructions:\n",
    "- REPLACE this cell with your summary and add code/output below.\n",
    "- Example: \"We queried unique launch sites and calculated payload statistics. See [GitHub URL].\""
   ]
  },
  {
   "cell_type": "code",
   "execution_count": null,
   "metadata": {},
   "outputs": [],
   "source": [
    "import sqlite3\n",
    "con = sqlite3.connect(':memory:')\n",
    "df_api.to_sql('SPACEXTABLE', con, index=False, if_exists='replace')\n",
    "query = \"SELECT DISTINCT launchpad FROM SPACEXTABLE;\"\n",
    "print(pd.read_sql(query, con))"
   ]
  },
  {
   "cell_type": "markdown",
   "metadata": {},
   "source": [
    "# Page 12: Build an Interactive Map with Folium\n",
    "• Summarize what map objects such as markers, circles, lines, etc. you created and added to a folium map\n",
    "• Explain why you added those objects\n",
    "• Add the GitHub URL of your completed interactive map with Folium map, as an external reference and peer-review purpose\n",
    "## Instructions:\n",
    "- REPLACE this cell with your summary and add code/output below.\n",
    "- Example: \"We mapped launch sites with markers and circles to visualize geographic distribution. See [GitHub URL].\""
   ]
  },
  {
   "cell_type": "code",
   "execution_count": null,
   "metadata": {},
   "outputs": [],
   "source": [
    "import folium\n",
    "from folium.features import DivIcon\n",
    "launch_sites_df = df_api.groupby(['launchpad'], as_index=False).first()\n",
    "launch_sites_df = launch_sites_df[['launchpad', 'date']]\n",
    "nasa_coordinate = [29.559684888503615, -95.0830971930759]\n",
    "site_map = folium.Map(location=nasa_coordinate, zoom_start=5)\n",
    "for idx, row in launch_sites_df.iterrows():\n",
    "    coordinate = [nasa_coordinate[0], nasa_coordinate[1]]\n",
    "    site_map.add_child(folium.Circle(coordinate, radius=1000, color='#000000', fill=True).add_child(folium.Popup(row['launchpad'])))\n",
    "    site_map.add_child(folium.map.Marker(\n",
    "        coordinate,\n",
    "        icon=DivIcon(\n",
    "            icon_size=(20,20),\n",
    "            icon_anchor=(0,0),\n",
    "            html=f'<div style=\"font-size: 12; color:#d35400;\"><b>{row[\"launchpad\"]}</b></div>'\n",
    "        )\n",
    "    ))\n",
    "site_map"
   ]
  },
  {
   "cell_type": "markdown",
   "metadata": {},
   "source": [
    "# Page 13: Build a Dashboard with Plotly Dash\n",
    "• Summarize what plots/graphs and interactions you have added to a dashboard\n",
    "• Explain why you added those plots and interactions\n",
    "• Add the GitHub URL of your completed Plotly Dash lab, as an external reference and peer-review purpose\n",
    "## Instructions:\n",
    "- REPLACE this cell with your summary and add code/output below.\n",
    "- Example: \"We built a dashboard with pie charts and scatter plots to interactively explore launch success. See [GitHub URL].\""
   ]
  },
  {
   "cell_type": "code",
   "execution_count": null,
   "metadata": {},
   "outputs": [],
   "source": [
    "success_counts = df_api['flight_number'].value_counts()\n",
    "plt.pie(success_counts, labels=success_counts.index, autopct='%1.1f%%')\n",
    "plt.title('Launch Success Count')\n",
    "plt.show()"
   ]
  },
  {
   "cell_type": "markdown",
   "metadata": {},
   "source": [
    "# Page 14: Predictive Analysis (Classification)\n",
    "• Summarize how you built, evaluated, improved, and found the best performing classification model\n",
    "• You need present your model development process using key phrases and flowchart\n",
    "• Add the GitHub URL of your completed predictive analysis lab, as an external reference and peer-review purpose\n",
    "## Instructions:\n",
    "- REPLACE this cell with your summary and add code/output below.\n",
    "- Example: \"We built and tuned logistic regression and other models to predict landing success. See [GitHub URL].\""
   ]
  },
  {
   "cell_type": "code",
   "execution_count": null,
   "metadata": {},
   "outputs": [],
   "source": [
    "from sklearn import preprocessing\n",
    "from sklearn.model_selection import train_test_split, GridSearchCV\n",
    "from sklearn.linear_model import LogisticRegression\n",
    "X = df_api[['flight_number']].values\n",
    "Y = np.random.randint(0, 2, size=X.shape[0])  # Replace with actual labels\n",
    "transform = preprocessing.StandardScaler()\n",
    "X = transform.fit_transform(X)\n",
    "X_train, X_test, Y_train, Y_test = train_test_split(X, Y, test_size=0.2, random_state=2)\n",
    "parameters = {'C':[0.01,0.1,1], 'penalty':['l2'], 'solver':['lbfgs']}\n",
    "lr = LogisticRegression()\n",
    "logreg_cv = GridSearchCV(lr, parameters, cv=10)\n",
    "logreg_cv.fit(X_train, Y_train)\n",
    "print(\"Best parameters:\", logreg_cv.best_params_)\n",
    "print(\"Validation accuracy:\", logreg_cv.best_score_)\n",
    "print(\"Test accuracy:\", logreg_cv.score(X_test, Y_test))"
   ]
  },
  {
   "cell_type": "markdown",
   "metadata": {},
   "source": [
    "# Page 15: Results\n",
    "• Exploratory data analysis results\n",
    "• Interactive analytics demo in screenshots\n",
    "• Predictive analysis results\n",
    "## Instructions:\n",
    "- REPLACE this cell with your results and add screenshots/explanations.\n",
    "- Example: \"EDA revealed key trends in launch success. Interactive maps and dashboards provided insights. Predictive models achieved X% accuracy.\""
   ]
  },
  {
   "cell_type": "markdown",
   "metadata": {},
   "source": [
    "# Page 16: Section 2\n",
    "## Instructions:\n",
    "- REPLACE this cell with a section header or overview.\n",
    "- Example: \"Section 2: Data Analysis and SQL Queries\""
   ]
  },
  {
   "cell_type": "markdown",
   "metadata": {},
   "source": [
    "# Page 18: Flight Number vs. Launch Site\n",
    "• Show a scatter plot of Flight Number vs. Launch Site\n",
    "• Show the screenshot of the scatter plot with explanations\n",
    "## Instructions:\n",
    "- REPLACE this cell with your description and add code/output below.\n",
    "- Example: \"Scatter plot shows distribution of launches across sites over time.\""
   ]
  },
  {
   "cell_type": "code",
   "execution_count": null,
   "metadata": {},
   "outputs": [],
   "source": [
    "import matplotlib.pyplot as plt\n",
    "import seaborn as sns\n",
    "sns.scatterplot(x='flight_number', y='launchpad', data=df_api)\n",
    "plt.title('Flight Number vs. Launch Site')\n",
    "plt.xlabel('Flight Number')\n",
    "plt.ylabel('Launch Site')\n",
    "plt.show()"
   ]
  },
  {
   "cell_type": "markdown",
   "metadata": {},
   "source": [
    "# Page 19: Payload vs. Launch Site\n",
    "• Show a scatter plot of Payload vs. Launch Site\n",
    "• Show the screenshot of the scatter plot with explanations\n",
    "## Instructions:\n",
    "- REPLACE this cell with your description and add code/output below.\n",
    "- Example: \"Scatter plot shows payload distribution across launch sites.\""
   ]
  },
  {
   "cell_type": "code",
   "execution_count": null,
   "metadata": {},
   "outputs": [],
   "source": [
    "sns.scatterplot(x='payloads', y='launchpad', data=df_api)\n",
    "plt.title('Payload vs. Launch Site')\n",
    "plt.xlabel('Payload')\n",
    "plt.ylabel('Launch Site')\n",
    "plt.show()"
   ]
  },
  {
   "cell_type": "markdown",
   "metadata": {},
   "source": [
    "# Page 20: Success Rate vs. Orbit Type\n",
    "• Show a bar chart for the success rate of each orbit type\n",
    "• Show the screenshot of the scatter plot with explanations\n",
    "## Instructions:\n",
    "- REPLACE this cell with your description and add code/output below.\n",
    "- Example: \"Bar chart shows which orbit types have highest success rates.\""
   ]
  },
  {
   "cell_type": "code",
   "execution_count": null,
   "metadata": {},
   "outputs": [],
   "source": [
    "# If you have 'orbit' and 'success' columns, use:\n",
    "# df_api.groupby('orbit')['success'].mean().plot(kind='bar')\n",
    "# plt.title('Success Rate vs. Orbit Type')\n",
    "# plt.xlabel('Orbit Type')\n",
    "# plt.ylabel('Success Rate')\n",
    "# plt.show()"
   ]
  },
  {
   "cell_type": "markdown",
   "metadata": {},
   "source": [
    "# Page 21: Flight Number vs. Orbit Type\n",
    "• Show a scatter point of Flight number vs. Orbit type\n",
    "• Show the screenshot of the scatter plot with explanations\n",
    "## Instructions:\n",
    "- REPLACE this cell with your description and add code/output below.\n",
    "- Example: \"Scatter plot shows launch frequency by orbit type.\""
   ]
  },
  {
   "cell_type": "code",
   "execution_count": null,
   "metadata": {},
   "outputs": [],
   "source": [
    "# If you have 'orbit' column, use:\n",
    "# sns.scatterplot(x='flight_number', y='orbit', data=df_api)\n",
    "# plt.title('Flight Number vs. Orbit Type')\n",
    "# plt.xlabel('Flight Number')\n",
    "# plt.ylabel('Orbit Type')\n",
    "# plt.show()"
   ]
  },
  {
   "cell_type": "markdown",
   "metadata": {},
   "source": [
    "# Page 22: Payload vs. Orbit Type\n",
    "• Show a scatter point of payload vs. orbit type\n",
    "• Show the screenshot of the scatter plot with explanations\n",
    "## Instructions:\n",
    "- REPLACE this cell with your description and add code/output below.\n",
    "- Example: \"Scatter plot shows payload mass by orbit type.\""
   ]
  },
  {
   "cell_type": "code",
   "execution_count": null,
   "metadata": {},
   "outputs": [],
   "source": [
    "# If you have 'orbit' column, use:\n",
    "# sns.scatterplot(x='payloads', y='orbit', data=df_api)\n",
    "# plt.title('Payload vs. Orbit Type')\n",
    "# plt.xlabel('Payload')\n",
    "# plt.ylabel('Orbit Type')\n",
    "# plt.show()"
   ]
  },
  {
   "cell_type": "markdown",
   "metadata": {},
   "source": [
    "# Page 23: Launch Success Yearly Trend\n",
    "• Show a line chart of yearly average success rate\n",
    "• Show the screenshot of the scatter plot with explanations\n",
    "## Instructions:\n",
    "- REPLACE this cell with your description and add code/output below.\n",
    "- Example: \"Line chart shows yearly trend in launch success rate.\""
   ]
  },
  {
   "cell_type": "code",
   "execution_count": null,
   "metadata": {},
   "outputs": [],
   "source": [
    "# If you have 'date' and 'success' columns, use:\n",
    "# df_api['year'] = pd.to_datetime(df_api['date']).dt.year\n",
    "# yearly_success = df_api.groupby('year')['success'].mean()\n",
    "# yearly_success.plot(kind='line')\n",
    "# plt.title('Launch Success Yearly Trend')\n",
    "# plt.xlabel('Year')\n",
    "# plt.ylabel('Average Success Rate')\n",
    "# plt.show()"
   ]
  },
  {
   "cell_type": "markdown",
   "metadata": {},
   "source": [
    "# Page 24: All Launch Site Names\n",
    "• Find the names of the unique launch sites\n",
    "• Present your query result with a short explanation here\n",
    "## Instructions:\n",
    "- REPLACE this cell with your description and add code/output below.\n",
    "- Example: \"Query returns all unique launch site names.\""
   ]
  },
  {
   "cell_type": "code",
   "execution_count": null,
   "metadata": {},
   "outputs": [],
   "source": [
    "query = \"SELECT DISTINCT launchpad FROM SPACEXTABLE;\"\n",
    "print(pd.read_sql(query, con))"
   ]
  },
  {
   "cell_type": "markdown",
   "metadata": {},
   "source": [
    "# Page 25: Launch Site Names Begin with 'CCA'\n",
    "• Find 5 records where launch sites begin with `CCA`\n",
    "• Present your query result with a short explanation here\n",
    "## Instructions:\n",
    "- REPLACE this cell with your description and add code/output below.\n",
    "- Example: \"Query returns 5 launch sites starting with 'CCA'.\""
   ]
  },
  {
   "cell_type": "code",
   "execution_count": null,
   "metadata": {},
   "outputs": [],
   "source": [
    "query = \"SELECT * FROM SPACEXTABLE WHERE launchpad LIKE 'CCA%' LIMIT 5;\"\n",
    "print(pd.read_sql(query, con))"
   ]
  },
  {
   "cell_type": "markdown",
   "metadata": {},
   "source": [
    "# Page 26: Total Payload Mass\n",
    "• Calculate the total payload carried by boosters from NASA\n",
    "• Present your query result with a short explanation here\n",
    "## Instructions:\n",
    "- REPLACE this cell with your description and add code/output below.\n",
    "- Example: \"Query returns total payload mass for NASA launches.\""
   ]
  },
  {
   "cell_type": "code",
   "execution_count": null,
   "metadata": {},
   "outputs": [],
   "source": [
    "# If you have 'customer' and 'payload_mass' columns, use:\n",
    "# query = \"SELECT SUM(payload_mass) FROM SPACEXTABLE WHERE customer LIKE '%NASA (CRS)%';\"\n",
    "# print(pd.read_sql(query, con))"
   ]
  },
  {
   "cell_type": "markdown",
   "metadata": {},
   "source": [
    "# Page 27: Average Payload Mass by F9 v1.1\n",
    "• Calculate the average payload mass carried by booster version F9 v1.1\n",
    "• Present your query result with a short explanation here\n",
    "## Instructions:\n",
    "- REPLACE this cell with your description and add code/output below.\n",
    "- Example: \"Query returns average payload mass for F9 v1.1 booster.\""
   ]
  },
  {
   "cell_type": "code",
   "execution_count": null,
   "metadata": {},
   "outputs": [],
   "source": [
    "# If you have 'booster_version' and 'payload_mass' columns, use:\n",
    "# query = \"SELECT AVG(payload_mass) FROM SPACEXTABLE WHERE booster_version = 'F9 v1.1';\"\n",
    "# print(pd.read_sql(query, con))"
   ]
  },
  {
   "cell_type": "markdown",
   "metadata": {},
   "source": [
    "# Page 28: First Successful Ground Landing Date\n",
    "• Find the dates of the first successful landing outcome on ground pad\n",
    "• Present your query result with a short explanation here\n",
    "## Instructions:\n",
    "- REPLACE this cell with your description and add code/output below.\n",
    "- Example: \"Query returns date of first successful ground pad landing.\""
   ]
  },
  {
   "cell_type": "code",
   "execution_count": null,
   "metadata": {},
   "outputs": [],
   "source": [
    "# If you have 'landing_outcome' and 'date' columns, use:\n",
    "# query = \"SELECT MIN(date) FROM SPACEXTABLE WHERE landing_outcome = 'Success (ground pad)';\"\n",
    "# print(pd.read_sql(query, con))"
   ]
  },
  {
   "cell_type": "markdown",
   "metadata": {},
   "source": [
    "# Page 29: Successful Drone Ship Landing with Payload between 4000 and 6000\n",
    "• List the names of boosters which have successfully landed on drone ship and had payload mass greater than 4000 but less than 6000\n",
    "• Present your query result with a short explanation here\n",
    "## Instructions:\n",
    "- REPLACE this cell with your description and add code/output below.\n",
    "- Example: \"Query returns boosters with successful drone ship landings and payload mass between 4000 and 6000.\""
   ]
  },
  {
   "cell_type": "code",
   "execution_count": null,
   "metadata": {},
   "outputs": [],
   "source": [
    "# If you have 'landing_outcome', 'payload_mass', and 'booster_version' columns, use:\n",
    "# query = \"SELECT booster_version FROM SPACEXTABLE WHERE landing_outcome = 'Success (drone ship)' AND payload_mass > 4000 AND payload_mass < 6000;\"\n",
    "# print(pd.read_sql(query, con))"
   ]
  },
  {
   "cell_type": "markdown",
   "metadata": {},
   "source": [
    "# Page 30: Total Number of Successful and Failure Mission Outcomes\n",
    "• Calculate the total number of successful and failure mission outcomes\n",
    "• Present your query result with a short explanation here\n",
    "## Instructions:\n",
    "- REPLACE this cell with your description and add code/output below.\n",
    "- Example: \"Query returns counts of successful and failed mission outcomes.\""
   ]
  },
  {
   "cell_type": "code",
   "execution_count": null,
   "metadata": {},
   "outputs": [],
   "source": [
    "# If you have 'landing_outcome' column, use:\n",
    "# query = \"SELECT landing_outcome, COUNT(*) FROM SPACEXTABLE GROUP BY landing_outcome;\"\n",
    "# print(pd.read_sql(query, con))"
   ]
  },
  {
   "cell_type": "markdown",
   "metadata": {},
   "source": [
    "# Page 31: Boosters Carried Maximum Payload\n",
    "• List the names of the booster which have carried the maximum payload mass\n",
    "• Present your query result with a short explanation here\n",
    "## Instructions:\n",
    "- REPLACE this cell with your description and add code/output below.\n",
    "- Example: \"Query returns booster(s) with maximum payload mass.\""
   ]
  },
  {
   "cell_type": "code",
   "execution_count": null,
   "metadata": {},
   "outputs": [],
   "source": [
    "# If you have 'payload_mass' and 'booster_version' columns, use:\n",
    "# query = \"SELECT booster_version FROM SPACEXTABLE WHERE payload_mass = (SELECT MAX(payload_mass) FROM SPACEXTABLE);\"\n",
    "# print(pd.read_sql(query, con))"
   ]
  },
  {
   "cell_type": "markdown",
   "metadata": {},
   "source": [
    "# Page 32: 2015 Launch Records\n",
    "• List the failed landing_outcomes in drone ship, their booster versions, and launch site names for in year 2015\n",
    "• Present your query result with a short explanation here\n",
    "## Instructions:\n",
    "- REPLACE this cell with your description and add code/output below.\n",
    "- Example: \"Query returns failed drone ship landings in 2015 with booster and site info.\""
   ]
  },
  {
   "cell_type": "code",
   "execution_count": null,
   "metadata": {},
   "outputs": [],
   "source": [
    "# If you have 'date', 'landing_outcome', 'booster_version', 'launchpad' columns, use:\n",
    "# query = \"SELECT substr(date, 6,2) AS month, landing_outcome, booster_version, launchpad FROM SPACEXTABLE WHERE landing_outcome = 'Failure (drone ship)' AND substr(date,0,5) = '2015';\"\n",
    "# print(pd.read_sql(query, con))"
   ]
  },
  {
   "cell_type": "markdown",
   "metadata": {},
   "source": [
    "# Page 33: Rank Landing Outcomes Between 2010-06-04 and 2017-03-20\n",
    "• Rank the count of landing outcomes (such as Failure (drone ship) or Success (ground pad)) between the date 2010-06-04 and 2017-03-20, in descending order\n",
    "• Present your query result with a short explanation here\n",
    "## Instructions:\n",
    "- REPLACE this cell with your description and add code/output below.\n",
    "- Example: \"Query ranks landing outcomes by count for specified date range.\""
   ]
  },
  {
   "cell_type": "code",
   "execution_count": null,
   "metadata": {},
   "outputs": [],
   "source": [
    "# If you have 'date' and 'landing_outcome' columns, use:\n",
    "# query = \"SELECT landing_outcome, COUNT(*) as outcome_count FROM SPACEXTABLE WHERE date BETWEEN '2010-06-04' AND '2017-03-20' GROUP BY landing_outcome ORDER BY outcome_count DESC;\"\n",
    "# print(pd.read_sql(query, con))"
   ]
  },
  {
   "cell_type": "markdown",
   "metadata": {},
   "source": [
    "# Page 35: Folium Map Screenshot 1\n",
    "• Replace <Folium map screenshot 1> title with an appropriate title\n",
    "• Explore the generated folium map and make a proper screenshot to include all launch sites’ location markers on a global map\n",
    "• Explain the important elements and findings on the screenshot\n",
    "## Instructions:\n",
    "- REPLACE this cell with your title and add code/output below.\n",
    "- Example: \"Global Launch Sites Map: All launch sites are marked on the map for geographic analysis.\""
   ]
  },
  {
   "cell_type": "code",
   "execution_count": null,
   "metadata": {},
   "outputs": [],
   "source": [
    "# Example code for Folium map (already shown above, repeat if needed)"
   ]
  },
  {
   "cell_type": "markdown",
   "metadata": {},
   "source": [
    "# Page 36: Folium Map Screenshot 2\n",
    "• Replace <Folium map screenshot 2> title with an appropriate title\n",
    "• Explore the folium map and make a proper screenshot to show the color-labeled launch outcomes on the map\n",
    "• Explain the important elements and findings on the screenshot\n",
    "## Instructions:\n",
    "- REPLACE this cell with your title and add code/output below.\n",
    "- Example: \"Launch Outcomes Map: Launch outcomes are color-coded for visual comparison.\""
   ]
  },
  {
   "cell_type": "code",
   "execution_count": null,
   "metadata": {},
   "outputs": [],
   "source": [
    "# Add code for color-labeled outcomes if available"
   ]
  },
  {
   "cell_type": "markdown",
   "metadata": {},
   "source": [
    "# Page 37: Folium Map Screenshot 3\n",
    "• Replace <Folium map screenshot 3> title with an appropriate title\n",
    "• Explore the generated folium map and show the screenshot of a selected launch site to its proximities such as railway, highway, coastline, with distance calculated and displayed\n",
    "• Explain the important elements and findings on the screenshot\n",
    "## Instructions:\n",
    "- REPLACE this cell with your title and add code/output below.\n",
    "- Example: \"Launch Site Proximity Map: Shows proximity to infrastructure and coastline.\""
   ]
  },
  {
   "cell_type": "code",
   "execution_count": null,
   "metadata": {},
   "outputs": [],
   "source": [
    "# Add code for proximity analysis if available"
   ]
  },
  {
   "cell_type": "markdown",
   "metadata": {},
   "source": [
    "# Page 39: Dashboard Screenshot 1\n",
    "• Replace <Dashboard screenshot 1> title with an appropriate title\n",
    "• Show the screenshot of launch success count for all sites, in a piechart\n",
    "• Explain the important elements and findings on the screenshot\n",
    "## Instructions:\n",
    "- REPLACE this cell with your title and add code/output below.\n",
    "- Example: \"Launch Success Count Pie Chart: Visualizes success distribution across sites.\""
   ]
  },
  {
   "cell_type": "code",
   "execution_count": null,
   "metadata": {},
   "outputs": [],
   "source": [
    "# Pie chart code already shown above, repeat if needed"
   ]
  },
  {
   "cell_type": "markdown",
   "metadata": {},
   "source": [
    "# Page 40: Dashboard Screenshot 2\n",
    "• Replace <Dashboard screenshot 2> title with an appropriate title\n",
    "• Show the screenshot of the piechart for the launch site with highest launch success ratio\n",
    "• Explain the important elements and findings on the screenshot\n",
    "## Instructions:\n",
    "- REPLACE this cell with your title and add code/output below.\n",
    "- Example: \"Highest Success Ratio Site Pie Chart: Highlights the most successful launch site.\""
   ]
  },
  {
   "cell_type": "code",
   "execution_count": null,
   "metadata": {},
   "outputs": [],
   "source": [
    "# Add code for highest success ratio site pie chart if available"
   ]
  },
  {
   "cell_type": "markdown",
   "metadata": {},
   "source": [
    "# Page 41: Dashboard Screenshot 3\n",
    "• Replace <Dashboard screenshot 3> title with an appropriate title\n",
    "• Show screenshots of Payload vs. Launch Outcome scatter plot for all sites, with different payload selected in the range slider\n",
    "• Explain the important elements and findings on the screenshot, such as which payload range or booster version have the largest success rate, etc.\n",
    "## Instructions:\n",
    "- REPLACE this cell with your title and add code/output below.\n",
    "- Example: \"Payload vs. Launch Outcome Scatter Plot: Shows success rates by payload range and booster version.\""
   ]
  },
  {
   "cell_type": "code",
   "execution_count": null,
   "metadata": {},
   "outputs": [],
   "source": [
    "# Add code for scatter plot with range slider if available"
   ]
  },
  {
   "cell_type": "markdown",
   "metadata": {},
   "source": [
    "# Page 43: Classification Accuracy\n",
    "• Visualize the built model accuracy for all built classification models, in a bar chart\n",
    "• Find which model has the highest classification accuracy\n",
    "## Instructions:\n",
    "- REPLACE this cell with your description and add code/output below.\n",
    "- Example: \"Bar chart compares accuracy of all classification models.\""
   ]
  },
  {
   "cell_type": "code",
   "execution_count": null,
   "metadata": {},
   "outputs": [],
   "source": [
    "# Add code for classification accuracy bar chart if available"
   ]
  },
  {
   "cell_type": "markdown",
   "metadata": {},
   "source": [
    "# Page 44: Confusion Matrix\n",
    "• Show the confusion matrix of the best performing model with an explanation\n",
    "## Instructions:\n",
    "- REPLACE this cell with your description and add code/output below.\n",
    "- Example: \"Confusion matrix for best performing model.\""
   ]
  },
  {
   "cell_type": "code",
   "execution_count": null,
   "metadata": {},
   "outputs": [],
   "source": [
    "# Add code for confusion matrix if available"
   ]
  },
  {
   "cell_type": "markdown",
   "metadata": {},
   "source": [
    "# Page 45: Conclusions\n",
    "• Point 1\n",
    "• Point 2\n",
    "• Point 3\n",
    "• Point 4\n",
    "• ...\n",
    "## Instructions:\n",
    "- REPLACE this cell with your main points and findings."
   ]
  },
  {
   "cell_type": "markdown",
   "metadata": {},
   "source": [
    "# Page 46: Appendix\n",
    "• Include any relevant assets like Python code snippets, SQL queries, charts, Notebook outputs, or data sets that you may have created during this project\n",
    "## Instructions:\n",
    "- REPLACE this cell with your appendix content."
   ]
  }
 ],
 "metadata": {
  "kernelspec": {
   "display_name": "base",
   "language": "python",
   "name": "python3"
  },
  "language_info": {
   "codemirror_mode": {
    "name": "ipython",
    "version": 3
   },
   "file_extension": ".py",
   "mimetype": "text/x-python",
   "name": "python",
   "nbconvert_exporter": "python",
   "pygments_lexer": "ipython3",
   "version": "3.13.5"
  }
 },
 "nbformat": 4,
 "nbformat_minor": 4
}
